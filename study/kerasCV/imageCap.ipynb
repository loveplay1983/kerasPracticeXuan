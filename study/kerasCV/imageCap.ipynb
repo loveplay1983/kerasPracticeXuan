{
 "cells": [
  {
   "cell_type": "code",
   "execution_count": 3,
   "id": "0aebd8a8-38f1-4766-80bc-2be91adc627f",
   "metadata": {},
   "outputs": [],
   "source": [
    "import os\n",
    "\n",
    "os.environ[\"KERAS_BACKEND\"] = \"tensorflow\"\n",
    "\n",
    "import re\n",
    "import numpy as np\n",
    "import matplotlib.pyplot as plt\n",
    "import tensorflow as tf\n",
    "import keras\n",
    "from keras import layers\n",
    "from keras.applications import efficientnet\n",
    "from keras.layers import TextVectorization\n",
    "\n",
    "\n",
    "keras.utils.set_random_seed(111)"
   ]
  },
  {
   "cell_type": "markdown",
   "id": "d429ff30-446b-4979-a8ec-9897d6c6d051",
   "metadata": {},
   "source": [
    "```shell\n",
    "!wget -q https://github.com/jbrownlee/Datasets/releases/download/Flickr8k/Flickr8k_Dataset.zip\n",
    "!wget -q https://github.com/jbrownlee/Datasets/releases/download/Flickr8k/Flickr8k_text.zip\n",
    "!unzip -qq Flickr8k_Dataset.zip\n",
    "!unzip -qq Flickr8k_text.zip\n",
    "!rm Flickr8k_Dataset.zip Flickr8k_text.zip\n",
    "```"
   ]
  },
  {
   "cell_type": "code",
   "execution_count": 4,
   "id": "103a0bb0-4bcb-484d-86ee-f9ea7982ea59",
   "metadata": {},
   "outputs": [],
   "source": [
    "IMAGE_PAHT = \"/media/dllab/AI-PhD-Study/test-dataset/imgcap/Flickr/flickr8k/\"\n",
    "IMAGE_SIZE = \"(229, 229)\"\n",
    "VOCAB_SIZE = 10000 # text vocab size\n",
    "SEQ_LENGTH = 25    # fixed length for the text sequence\n",
    "EMBED_DIM = 512 # d_model, feature embedding dimension"
   ]
  },
  {
   "cell_type": "code",
   "execution_count": null,
   "id": "bf929f7c-5f2b-4a5e-ab6b-4a5965264f52",
   "metadata": {},
   "outputs": [],
   "source": [
    "# dataset preparation\n",
    "\n",
    "def load_captions_data(filename):\n",
    "    \"\"\"\n",
    "    Loads captions(text) data and maps them to the corresponding images\n",
    "    Args:\n",
    "        filename: Path to the text file containing caption data\n",
    "    Returns: \n",
    "        caption_mapping: Dictionary mapping image names and the corresponding captions\n",
    "        text_data: List containing all the available captions\n",
    "    \"\"\"\n",
    "    "
   ]
  }
 ],
 "metadata": {
  "kernelspec": {
   "display_name": "Python 3 (ipykernel)",
   "language": "python",
   "name": "python3"
  },
  "language_info": {
   "codemirror_mode": {
    "name": "ipython",
    "version": 3
   },
   "file_extension": ".py",
   "mimetype": "text/x-python",
   "name": "python",
   "nbconvert_exporter": "python",
   "pygments_lexer": "ipython3",
   "version": "3.12.4"
  }
 },
 "nbformat": 4,
 "nbformat_minor": 5
}
