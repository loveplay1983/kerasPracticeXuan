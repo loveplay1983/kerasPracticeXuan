{
 "cells": [
  {
   "cell_type": "code",
   "execution_count": 2,
   "id": "0eaf88fa-d24b-4d80-bd36-367066fbf8e4",
   "metadata": {},
   "outputs": [],
   "source": [
    "import numpy as np\n",
    "import tensorflow as tf\n",
    "import matplotlib.pyplot as plt"
   ]
  },
  {
   "cell_type": "code",
   "execution_count": 5,
   "id": "5fd013c6-3676-4054-8b14-d78936943e3b",
   "metadata": {},
   "outputs": [],
   "source": [
    "def get_angles(pos, i, d_model:np.float32):\n",
    "    # div term \n",
    "    # i // 2 - pe uses sin and cos computation on both even and odd location, 512 indices in total\n",
    "    angle_rates = 1 / np.power(10000, (2 * (i // 2)) / d_model) \n",
    "    return pos * angle_rates"
   ]
  },
  {
   "cell_type": "code",
   "execution_count": 15,
   "id": "78f60501-1bd1-4618-87b9-2b6c99362f82",
   "metadata": {},
   "outputs": [],
   "source": [
    "# print(np.arange(10)[:, np.newaxis].shape)\n",
    "# print(np.arange(10)[np.newaxis, :].shape)\n",
    "\n",
    "def positional_encoding(position, d_model: np.float32):\n",
    "    # angle radians\n",
    "    angle_rads = get_angles(\n",
    "        np.arange(position)[:, np. newaxis],   # shape -> (pos, 1) , meaning there are n positions (n rows), and each of which contains 1 element (1 col)\n",
    "        np.arange(d_model)[np.newaxis, :],   # shape -> (1, d_model)\n",
    "        d_model\n",
    "    )\n",
    "\n",
    "    # sinusoidal result regards even indices\n",
    "    angle_rads[:, 0::2] = np.sin(angle_rads[:, 0::2])\n",
    "\n",
    "    # cosinusoidal result regards odd indices\n",
    "    angle_rads[:, 1::2] = np.cos(angle_rads[:, 1::2])\n",
    "\n",
    "    pos_encoding = angle_rads[np.newaxis, ...] # convert the angle_rads to tensor with shape (1, ...)\n",
    "\n",
    "    return tf.cast(pos_encoding, dtype=tf.float32)"
   ]
  },
  {
   "cell_type": "code",
   "execution_count": 24,
   "id": "37359bd9-0724-414d-946b-c1a343d23780",
   "metadata": {},
   "outputs": [
    {
     "data": {
      "text/plain": [
       "TensorShape([1, 50, 64])"
      ]
     },
     "execution_count": 24,
     "metadata": {},
     "output_type": "execute_result"
    }
   ],
   "source": [
    "tokens= 50\n",
    "dimensions = 64\n",
    "pos_encoding = positional_encoding(tokens, dimensions)\n",
    "pos_encoding.shape"
   ]
  },
  {
   "cell_type": "code",
   "execution_count": 25,
   "id": "daf63f2f-80e5-442b-9f50-78d1fc13b18b",
   "metadata": {},
   "outputs": [
    {
     "data": {
      "image/png": "[encoded data removed]",
      "text/plain": [
       "<Figure size 640x480 with 2 Axes>"
      ]
     },
     "metadata": {},
     "output_type": "display_data"
    }
   ],
   "source": [
    "# plot \n",
    "plt.pcolormesh(pos_encoding[0], cmap=\"viridis\")\n",
    "plt.xlabel(\"Depth\")\n",
    "plt.xlim((0, dimensions))\n",
    "plt.ylabel(\"position\")\n",
    "plt.colorbar()\n",
    "plt.show()"
   ]
  },
  {
   "cell_type": "code",
   "execution_count": null,
   "id": "bf56bbf4-5cfa-4f2f-a007-64511ccc481c",
   "metadata": {},
   "outputs": [],
   "source": []
  },
  {
   "cell_type": "markdown",
   "id": "8b1f5701-0c6d-4238-9321-a99b0d050404",
   "metadata": {},
   "source": [
    "# Interactive plot\n"
   ]
  },
  {
   "cell_type": "code",
   "execution_count": 30,
   "id": "ca1d75a8-1b7c-47b3-a012-f23b67ae4711",
   "metadata": {},
   "outputs": [],
   "source": [
    "import numpy as np\n",
    "import matplotlib.pyplot as plt\n",
    "from ipywidgets import interact"
   ]
  },
  {
   "cell_type": "code",
   "execution_count": 58,
   "id": "11b4399c-5338-474f-8e1f-31f57e73a7f6",
   "metadata": {},
   "outputs": [],
   "source": [
    "sequence_length = 6\n",
    "encoding_dim = 8"
   ]
  },
  {
   "cell_type": "code",
   "execution_count": 59,
   "id": "61962e1c-8396-4011-a70f-fbbc3e0107ec",
   "metadata": {},
   "outputs": [],
   "source": [
    "def get_positional_encoding(sequence_length, encoding_dim):\n",
    "    pos_encoding = np.zeros((sequence_length, encoding_dim))\n",
    "    for pos in range(sequence_length):\n",
    "        for i in range(0, encoding_dim, 2):\n",
    "            # even \n",
    "            pos_encoding[pos, i] = np.sin(pos / 10000 ** (2 * i / encoding_dim))\n",
    "            # odd\n",
    "            pos_encoding[pos, i + 1] = np.cos(pos / 10000**(2 * (i + 1) / encoding_dim))\n",
    "        return pos_encoding"
   ]
  },
  {
   "cell_type": "code",
   "execution_count": 60,
   "id": "3e3c97ae-72c4-4216-b73d-09e2a351cf8f",
   "metadata": {},
   "outputs": [],
   "source": [
    "pos_encoding = get_positional_encoding(sequence_length, encoding_dim)"
   ]
  },
  {
   "cell_type": "code",
   "execution_count": 61,
   "id": "65fcdc56-4195-45ef-af8b-d22162badea2",
   "metadata": {},
   "outputs": [],
   "source": [
    "def plot_encoding(token_index):\n",
    "    plt.figure(figsize=(15, 2))\n",
    "    x = np.arange(sequence_length)\n",
    "    for i in range(encoding_dim):\n",
    "        plt.subplot(1, encoding_dim, i+1)\n",
    "        y = np.sin(x / 10000**(2 * i / encoding_dim)) if i % 2 == 0 else np.cos(x / 10000**(2 * i / encoding_dim))\n",
    "        plt.plot(x, y)\n",
    "        plt.scatter([token_index], [pos_encoding[token_index, i]], color=\"red\")\n",
    "        plt.xlabel(f\"Position{i}\")\n",
    "        plt.yticks([])\n",
    "    plt.tight_layout()\n",
    "    plt.show()"
   ]
  },
  {
   "cell_type": "code",
   "execution_count": 62,
   "id": "ad30f9ce-59f7-4614-83e7-eea7f1c56c44",
   "metadata": {},
   "outputs": [
    {
     "data": {
      "application/vnd.jupyter.widget-view+json": {
       "model_id": "4e4d73c357034ecab1838b7fffd5fd4d",
       "version_major": 2,
       "version_minor": 0
      },
      "text/plain": [
       "interactive(children=(IntSlider(value=2, description='token_index', max=5), Output()), _dom_classes=('widget-i…"
      ]
     },
     "metadata": {},
     "output_type": "display_data"
    },
    {
     "data": {
      "text/plain": [
       "<function __main__.plot_encoding(token_index)>"
      ]
     },
     "execution_count": 62,
     "metadata": {},
     "output_type": "execute_result"
    }
   ],
   "source": [
    "interact(plot_encoding, token_index=(0, sequence_length-1, 1))"
   ]
  },
  {
   "cell_type": "code",
   "execution_count": 69,
   "id": "db6a7c38-6b2b-43d7-84b9-9b2ddca727ad",
   "metadata": {},
   "outputs": [
    {
     "ename": "ValueError",
     "evalue": "A KerasTensor cannot be used as input to a TensorFlow function. A KerasTensor is a symbolic placeholder for a shape and dtype, used when constructing Keras Functional models or Keras Functions. You can only use it as input to a Keras layer or a Keras operation (from the namespaces `keras.layers` and `keras.operations`). You are likely doing something like:\n\n```\nx = Input(...)\n...\ntf_fn(x)  # Invalid.\n```\n\nWhat you should do instead is wrap `tf_fn` in a layer:\n\n```\nclass MyLayer(Layer):\n    def call(self, x):\n        return tf_fn(x)\n\nx = MyLayer()(x)\n```\n",
     "output_type": "error",
     "traceback": [
      "\u001b[0;31m---------------------------------------------------------------------------\u001b[0m",
      "\u001b[0;31mValueError\u001b[0m                                Traceback (most recent call last)",
      "Cell \u001b[0;32mIn[69], line 21\u001b[0m\n\u001b[1;32m     18\u001b[0m word_embeddings \u001b[38;5;241m=\u001b[39m embedding_layer(inputs) \u001b[38;5;66;03m# 形狀為 (batch_size, sequence_length, embed_size)\u001b[39;00m\n\u001b[1;32m     20\u001b[0m \u001b[38;5;66;03m# 將位置編碼(PE)和單詞嵌入(WE)相加\u001b[39;00m\n\u001b[0;32m---> 21\u001b[0m x \u001b[38;5;241m=\u001b[39m \u001b[43mtf\u001b[49m\u001b[38;5;241;43m.\u001b[39;49m\u001b[43madd\u001b[49m\u001b[43m(\u001b[49m\u001b[43mword_embeddings\u001b[49m\u001b[43m,\u001b[49m\u001b[43m \u001b[49m\u001b[43mposition_embeddings\u001b[49m\u001b[43m,\u001b[49m\u001b[43m \u001b[49m\u001b[43mname\u001b[49m\u001b[38;5;241;43m=\u001b[39;49m\u001b[38;5;124;43m'\u001b[39;49m\u001b[38;5;124;43madd\u001b[39;49m\u001b[38;5;124;43m'\u001b[39;49m\u001b[43m)\u001b[49m\n\u001b[1;32m     22\u001b[0m outputs \u001b[38;5;241m=\u001b[39m tf\u001b[38;5;241m.\u001b[39mkeras\u001b[38;5;241m.\u001b[39mlayers\u001b[38;5;241m.\u001b[39mDense(\u001b[38;5;241m10\u001b[39m, activation\u001b[38;5;241m=\u001b[39m\u001b[38;5;124m'\u001b[39m\u001b[38;5;124msoftmax\u001b[39m\u001b[38;5;124m'\u001b[39m)(x)\n\u001b[1;32m     24\u001b[0m \u001b[38;5;66;03m# # 創建模型\u001b[39;00m\n\u001b[1;32m     25\u001b[0m \u001b[38;5;66;03m# model = tf.keras.Model(inputs, outputs)\u001b[39;00m\n\u001b[1;32m     26\u001b[0m \n\u001b[1;32m     27\u001b[0m \u001b[38;5;66;03m# # 模型摘要\u001b[39;00m\n\u001b[1;32m     28\u001b[0m \u001b[38;5;66;03m# plot_model(model)\u001b[39;00m\n",
      "File \u001b[0;32m~/Workstation/Anaconda/anaconda/envs/keras3test/lib/python3.12/site-packages/tensorflow/python/ops/weak_tensor_ops.py:142\u001b[0m, in \u001b[0;36mweak_tensor_binary_op_wrapper.<locals>.wrapper\u001b[0;34m(*args, **kwargs)\u001b[0m\n\u001b[1;32m    140\u001b[0m \u001b[38;5;28;01mdef\u001b[39;00m \u001b[38;5;21mwrapper\u001b[39m(\u001b[38;5;241m*\u001b[39margs, \u001b[38;5;241m*\u001b[39m\u001b[38;5;241m*\u001b[39mkwargs):\n\u001b[1;32m    141\u001b[0m   \u001b[38;5;28;01mif\u001b[39;00m \u001b[38;5;129;01mnot\u001b[39;00m ops\u001b[38;5;241m.\u001b[39mis_auto_dtype_conversion_enabled():\n\u001b[0;32m--> 142\u001b[0m     \u001b[38;5;28;01mreturn\u001b[39;00m \u001b[43mop\u001b[49m\u001b[43m(\u001b[49m\u001b[38;5;241;43m*\u001b[39;49m\u001b[43margs\u001b[49m\u001b[43m,\u001b[49m\u001b[43m \u001b[49m\u001b[38;5;241;43m*\u001b[39;49m\u001b[38;5;241;43m*\u001b[39;49m\u001b[43mkwargs\u001b[49m\u001b[43m)\u001b[49m\n\u001b[1;32m    143\u001b[0m   bound_arguments \u001b[38;5;241m=\u001b[39m signature\u001b[38;5;241m.\u001b[39mbind(\u001b[38;5;241m*\u001b[39margs, \u001b[38;5;241m*\u001b[39m\u001b[38;5;241m*\u001b[39mkwargs)\n\u001b[1;32m    144\u001b[0m   bound_arguments\u001b[38;5;241m.\u001b[39mapply_defaults()\n",
      "File \u001b[0;32m~/Workstation/Anaconda/anaconda/envs/keras3test/lib/python3.12/site-packages/tensorflow/python/util/traceback_utils.py:153\u001b[0m, in \u001b[0;36mfilter_traceback.<locals>.error_handler\u001b[0;34m(*args, **kwargs)\u001b[0m\n\u001b[1;32m    151\u001b[0m \u001b[38;5;28;01mexcept\u001b[39;00m \u001b[38;5;167;01mException\u001b[39;00m \u001b[38;5;28;01mas\u001b[39;00m e:\n\u001b[1;32m    152\u001b[0m   filtered_tb \u001b[38;5;241m=\u001b[39m _process_traceback_frames(e\u001b[38;5;241m.\u001b[39m__traceback__)\n\u001b[0;32m--> 153\u001b[0m   \u001b[38;5;28;01mraise\u001b[39;00m e\u001b[38;5;241m.\u001b[39mwith_traceback(filtered_tb) \u001b[38;5;28;01mfrom\u001b[39;00m \u001b[38;5;28;01mNone\u001b[39;00m\n\u001b[1;32m    154\u001b[0m \u001b[38;5;28;01mfinally\u001b[39;00m:\n\u001b[1;32m    155\u001b[0m   \u001b[38;5;28;01mdel\u001b[39;00m filtered_tb\n",
      "File \u001b[0;32m~/Workstation/Anaconda/anaconda/envs/keras3test/lib/python3.12/site-packages/keras/src/backend/common/keras_tensor.py:91\u001b[0m, in \u001b[0;36mKerasTensor.__tf_tensor__\u001b[0;34m(self, dtype, name)\u001b[0m\n\u001b[1;32m     90\u001b[0m \u001b[38;5;28;01mdef\u001b[39;00m \u001b[38;5;21m__tf_tensor__\u001b[39m(\u001b[38;5;28mself\u001b[39m, dtype\u001b[38;5;241m=\u001b[39m\u001b[38;5;28;01mNone\u001b[39;00m, name\u001b[38;5;241m=\u001b[39m\u001b[38;5;28;01mNone\u001b[39;00m):\n\u001b[0;32m---> 91\u001b[0m     \u001b[38;5;28;01mraise\u001b[39;00m \u001b[38;5;167;01mValueError\u001b[39;00m(\n\u001b[1;32m     92\u001b[0m         \u001b[38;5;124m\"\u001b[39m\u001b[38;5;124mA KerasTensor cannot be used as input to a TensorFlow function. \u001b[39m\u001b[38;5;124m\"\u001b[39m\n\u001b[1;32m     93\u001b[0m         \u001b[38;5;124m\"\u001b[39m\u001b[38;5;124mA KerasTensor is a symbolic placeholder for a shape and dtype, \u001b[39m\u001b[38;5;124m\"\u001b[39m\n\u001b[1;32m     94\u001b[0m         \u001b[38;5;124m\"\u001b[39m\u001b[38;5;124mused when constructing Keras Functional models \u001b[39m\u001b[38;5;124m\"\u001b[39m\n\u001b[1;32m     95\u001b[0m         \u001b[38;5;124m\"\u001b[39m\u001b[38;5;124mor Keras Functions. You can only use it as input to a Keras layer \u001b[39m\u001b[38;5;124m\"\u001b[39m\n\u001b[1;32m     96\u001b[0m         \u001b[38;5;124m\"\u001b[39m\u001b[38;5;124mor a Keras operation (from the namespaces `keras.layers` \u001b[39m\u001b[38;5;124m\"\u001b[39m\n\u001b[1;32m     97\u001b[0m         \u001b[38;5;124m\"\u001b[39m\u001b[38;5;124mand `keras.operations`). \u001b[39m\u001b[38;5;124m\"\u001b[39m\n\u001b[1;32m     98\u001b[0m         \u001b[38;5;124m\"\u001b[39m\u001b[38;5;124mYou are likely doing something like:\u001b[39m\u001b[38;5;130;01m\\n\u001b[39;00m\u001b[38;5;130;01m\\n\u001b[39;00m\u001b[38;5;124m\"\u001b[39m\n\u001b[1;32m     99\u001b[0m         \u001b[38;5;124m\"\u001b[39m\u001b[38;5;124m```\u001b[39m\u001b[38;5;130;01m\\n\u001b[39;00m\u001b[38;5;124m\"\u001b[39m\n\u001b[1;32m    100\u001b[0m         \u001b[38;5;124m\"\u001b[39m\u001b[38;5;124mx = Input(...)\u001b[39m\u001b[38;5;130;01m\\n\u001b[39;00m\u001b[38;5;124m\"\u001b[39m\n\u001b[1;32m    101\u001b[0m         \u001b[38;5;124m\"\u001b[39m\u001b[38;5;124m...\u001b[39m\u001b[38;5;130;01m\\n\u001b[39;00m\u001b[38;5;124m\"\u001b[39m\n\u001b[1;32m    102\u001b[0m         \u001b[38;5;124m\"\u001b[39m\u001b[38;5;124mtf_fn(x)  # Invalid.\u001b[39m\u001b[38;5;130;01m\\n\u001b[39;00m\u001b[38;5;124m\"\u001b[39m\n\u001b[1;32m    103\u001b[0m         \u001b[38;5;124m\"\u001b[39m\u001b[38;5;124m```\u001b[39m\u001b[38;5;130;01m\\n\u001b[39;00m\u001b[38;5;130;01m\\n\u001b[39;00m\u001b[38;5;124m\"\u001b[39m\n\u001b[1;32m    104\u001b[0m         \u001b[38;5;124m\"\u001b[39m\u001b[38;5;124mWhat you should do instead is wrap `tf_fn` in a layer:\u001b[39m\u001b[38;5;130;01m\\n\u001b[39;00m\u001b[38;5;130;01m\\n\u001b[39;00m\u001b[38;5;124m\"\u001b[39m\n\u001b[1;32m    105\u001b[0m         \u001b[38;5;124m\"\u001b[39m\u001b[38;5;124m```\u001b[39m\u001b[38;5;130;01m\\n\u001b[39;00m\u001b[38;5;124m\"\u001b[39m\n\u001b[1;32m    106\u001b[0m         \u001b[38;5;124m\"\u001b[39m\u001b[38;5;124mclass MyLayer(Layer):\u001b[39m\u001b[38;5;130;01m\\n\u001b[39;00m\u001b[38;5;124m\"\u001b[39m\n\u001b[1;32m    107\u001b[0m         \u001b[38;5;124m\"\u001b[39m\u001b[38;5;124m    def call(self, x):\u001b[39m\u001b[38;5;130;01m\\n\u001b[39;00m\u001b[38;5;124m\"\u001b[39m\n\u001b[1;32m    108\u001b[0m         \u001b[38;5;124m\"\u001b[39m\u001b[38;5;124m        return tf_fn(x)\u001b[39m\u001b[38;5;130;01m\\n\u001b[39;00m\u001b[38;5;130;01m\\n\u001b[39;00m\u001b[38;5;124m\"\u001b[39m\n\u001b[1;32m    109\u001b[0m         \u001b[38;5;124m\"\u001b[39m\u001b[38;5;124mx = MyLayer()(x)\u001b[39m\u001b[38;5;130;01m\\n\u001b[39;00m\u001b[38;5;124m\"\u001b[39m\n\u001b[1;32m    110\u001b[0m         \u001b[38;5;124m\"\u001b[39m\u001b[38;5;124m```\u001b[39m\u001b[38;5;130;01m\\n\u001b[39;00m\u001b[38;5;124m\"\u001b[39m\n\u001b[1;32m    111\u001b[0m     )\n",
      "\u001b[0;31mValueError\u001b[0m: A KerasTensor cannot be used as input to a TensorFlow function. A KerasTensor is a symbolic placeholder for a shape and dtype, used when constructing Keras Functional models or Keras Functions. You can only use it as input to a Keras layer or a Keras operation (from the namespaces `keras.layers` and `keras.operations`). You are likely doing something like:\n\n```\nx = Input(...)\n...\ntf_fn(x)  # Invalid.\n```\n\nWhat you should do instead is wrap `tf_fn` in a layer:\n\n```\nclass MyLayer(Layer):\n    def call(self, x):\n        return tf_fn(x)\n\nx = MyLayer()(x)\n```\n"
     ]
    }
   ],
   "source": [
    "import tensorflow as tf\n",
    "# from tensorflow.keras.utils import plot_model\n",
    "\n",
    "from tensorflow.keras.utils import plot_model\n",
    "\n",
    "sequence_length = 50  # 序列長度\n",
    "embed_size = 512     # 嵌入維度\n",
    "\n",
    "# 定義輸入\n",
    "inputs = tf.keras.Input(shape=(sequence_length,))\n",
    "\n",
    "# 使用 Embedding 層作為可學習式位置編碼\n",
    "position_embedding_layer = tf.keras.layers.Embedding(input_dim=sequence_length, output_dim=embed_size, name='PE')\n",
    "position_embeddings = position_embedding_layer(inputs) # 形狀為 (batch_size, sequence_length, embed_size)\n",
    "\n",
    "# 你的其他模型部分，例如一個嵌入層，可以用於處理實際的輸入序列\n",
    "embedding_layer = tf.keras.layers.Embedding(input_dim=sequence_length, output_dim=embed_size, name='WE')\n",
    "word_embeddings = embedding_layer(inputs) # 形狀為 (batch_size, sequence_length, embed_size)\n",
    "\n",
    "# 將位置編碼(PE)和單詞嵌入(WE)相加\n",
    "x = tf.add(word_embeddings, position_embeddings, name='add')\n",
    "outputs = tf.keras.layers.Dense(10, activation='softmax')(x)\n",
    "\n",
    "# # 創建模型\n",
    "# model = tf.keras.Model(inputs, outputs)\n",
    "\n",
    "# # 模型摘要\n",
    "# plot_model(model)"
   ]
  },
  {
   "cell_type": "code",
   "execution_count": null,
   "id": "92efbd55-971d-4f59-b08a-3f606fe03b93",
   "metadata": {},
   "outputs": [],
   "source": []
  }
 ],
 "metadata": {
  "kernelspec": {
   "display_name": "keras3",
   "language": "python",
   "name": "keras3test"
  },
  "language_info": {
   "codemirror_mode": {
    "name": "ipython",
    "version": 3
   },
   "file_extension": ".py",
   "mimetype": "text/x-python",
   "name": "python",
   "nbconvert_exporter": "python",
   "pygments_lexer": "ipython3",
   "version": "3.12.2"
  }
 },
 "nbformat": 4,
 "nbformat_minor": 5
}
